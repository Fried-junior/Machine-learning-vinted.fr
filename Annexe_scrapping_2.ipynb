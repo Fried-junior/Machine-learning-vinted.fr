{
 "cells": [
  {
   "cell_type": "markdown",
   "metadata": {},
   "source": [
    "# Annexe : scrapping des données de 2021"
   ]
  },
  {
   "cell_type": "code",
   "execution_count": 1,
   "metadata": {},
   "outputs": [],
   "source": [
    "from selenium import webdriver\n",
    "from selenium.webdriver.common.by import By\n",
    "from selenium.webdriver.common.keys import Keys\n",
    "from time import sleep, time \n",
    "from selenium.common.exceptions import StaleElementReferenceException\n",
    "import pandas as pd"
   ]
  },
  {
   "cell_type": "code",
   "execution_count": 2,
   "metadata": {},
   "outputs": [],
   "source": [
    "navigateur = webdriver.Firefox()"
   ]
  },
  {
   "cell_type": "code",
   "execution_count": 3,
   "metadata": {},
   "outputs": [],
   "source": [
    "navigateur.get('https://www.vinted.fr/')"
   ]
  },
  {
   "cell_type": "code",
   "execution_count": 4,
   "metadata": {},
   "outputs": [],
   "source": [
    "navigateur.switch_to.window(navigateur.window_handles[0])\n",
    "search=navigateur.find_element_by_id(\"search_text\")\n",
    "search.send_keys(\"chaussures\")\n",
    "search.send_keys(Keys.RETURN)"
   ]
  },
  {
   "cell_type": "code",
   "execution_count": 8,
   "metadata": {},
   "outputs": [],
   "source": [
    "carac=[]\n",
    "navigateur.switch_to.window(navigateur.window_handles[0])\n",
    "n = 1\n",
    "while n < 30:\n",
    "    navigateur.switch_to.window(navigateur.window_handles[0])\n",
    "    pagesuivante=navigateur.find_element_by_class_name(\"Pagination_next__DUhdH\")\n",
    "    page=pagesuivante.get_attribute(\"href\")\n",
    "    navigateur.execute_script(\"window.open('')\")\n",
    "    navigateur.switch_to.window(navigateur.window_handles[1])\n",
    "    navigateur.get(page)\n",
    "    Re=navigateur.find_elements_by_class_name(\"ItemBox_overlay__1kNfX\")\n",
    "    navigateur.switch_to.window(navigateur.window_handles[0])\n",
    "    navigateur.close()\n",
    "    navigateur.switch_to.window(navigateur.window_handles[0])\n",
    "    for i in range (len(Re)):\n",
    "        lien=Re[i].get_attribute(\"href\")\n",
    "        navigateur.execute_script(\"window.open('')\")\n",
    "        navigateur.switch_to.window(navigateur.window_handles[1])\n",
    "        navigateur.get(lien)\n",
    "        details=navigateur.find_elements_by_class_name(\"details-list\")\n",
    "        title=navigateur.find_elements_by_class_name('details-list__item-title')\n",
    "        item=navigateur.find_elements_by_class_name(\"details-list__item-value\")\n",
    "\n",
    "        if title[0].text=='MARQUE':\n",
    "            marque=item[0].text\n",
    "        else: \n",
    "            marque=\"NA\"\n",
    "        if title[1].text=='TAILLE':\n",
    "            taille=item[1].text\n",
    "        else:\n",
    "            taille=\"NA\"\n",
    "        if title[2].text=='ÉTAT':\n",
    "            état=item[2].text\n",
    "        else:\n",
    "            état=\"NA\"\n",
    "        if title[3].text=='COULEUR':\n",
    "            couleur=item[3].text\n",
    "        else:\n",
    "            couleur=\"NA\"\n",
    "        if title[4].text=='EMPLACEMENT':\n",
    "            emplacement=item[4].text\n",
    "        else:\n",
    "            emplacement=\"NA\"\n",
    "        if title[5].text=='MODES DE PAIEMENT':\n",
    "            Modepaiement=item[5].text\n",
    "        else:\n",
    "            Modepaiement=\"NA\"\n",
    "        if title[6].text=='NOMBRE DE VUES':\n",
    "            Vus=item[6].text\n",
    "        else:\n",
    "            Vus=\"NA\"\n",
    "        try:\n",
    "            if title[7].text=='INTÉRESSÉS·ÉES':\n",
    "                interet=item[7].text\n",
    "        except:\n",
    "            interet=\"NA\"\n",
    "        try:\n",
    "            if title[8].text=='AJOUTÉ':\n",
    "                ajout=item[8].text\n",
    "        except: \n",
    "                try:\n",
    "                    ajout=item[7].text\n",
    "                except:\n",
    "                    ajout=item[6].text\n",
    "\n",
    "        a=navigateur.find_elements_by_class_name(\"breadcrumbs__item\")\n",
    "        genre=a[1].find_element_by_tag_name(\"span\").text\n",
    "        b=navigateur.find_element_by_class_name(\"c-text--heading\")\n",
    "        prix=b.text\n",
    "\n",
    "        Resultat={\"Marque\":marque,\"Taille\":taille,\"État\":état,\"Couleur\":couleur,\n",
    "                  \"Emplacement\":emplacement,\"Modepaiement\":Modepaiement,\n",
    "                  \"Nombre de vus\":Vus,\"interet\":interet,\"ajout\":ajout,\n",
    "                  \"genre\":genre,\"prix\":prix}\n",
    "        carac.append(Resultat)\n",
    "\n",
    "        navigateur.close()\n",
    "\n",
    "        navigateur.switch_to.window(navigateur.window_handles[0])\n",
    "    n=n+1"
   ]
  },
  {
   "cell_type": "code",
   "execution_count": 9,
   "metadata": {},
   "outputs": [],
   "source": [
    "Dataessaie=pd.DataFrame(carac)"
   ]
  },
  {
   "cell_type": "code",
   "execution_count": 12,
   "metadata": {},
   "outputs": [],
   "source": [
    "Dataessaie.to_csv(\"Data_2021.csv\")"
   ]
  },
  {
   "cell_type": "code",
   "execution_count": null,
   "metadata": {},
   "outputs": [],
   "source": []
  },
  {
   "cell_type": "code",
   "execution_count": null,
   "metadata": {},
   "outputs": [],
   "source": []
  }
 ],
 "metadata": {
  "kernelspec": {
   "display_name": "Python 3",
   "language": "python",
   "name": "python3"
  },
  "language_info": {
   "codemirror_mode": {
    "name": "ipython",
    "version": 3
   },
   "file_extension": ".py",
   "mimetype": "text/x-python",
   "name": "python",
   "nbconvert_exporter": "python",
   "pygments_lexer": "ipython3",
   "version": "3.8.5"
  }
 },
 "nbformat": 4,
 "nbformat_minor": 4
}
